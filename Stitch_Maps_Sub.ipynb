{
 "cells": [
  {
   "cell_type": "markdown",
   "metadata": {},
   "source": [
    "This notebook contains the code used create a stitch the strain maps for the manuscript: **\"High-Resolution Digital Image Correlation study of the strain localization in a shot-peened RR1000 nickel-based superalloy\"** by Alberto Orozco-Caballero, Thomas Jackson and João Quinta da Fonseca. "
   ]
  },
  {
   "cell_type": "markdown",
   "metadata": {},
   "source": [
    "### Import modules"
   ]
  },
  {
   "cell_type": "code",
   "execution_count": 2,
   "metadata": {},
   "outputs": [],
   "source": [
    "import numpy as np\n",
    "import matplotlib.pyplot as plt\n",
    "import HRDIC_analysis as hrdic\n",
    "from ipywidgets import interact, interactive, fixed\n",
    "from skimage import io\n",
    "from skimage import color\n",
    "from glob import glob"
   ]
  },
  {
   "cell_type": "markdown",
   "metadata": {},
   "source": [
    "### Functions"
   ]
  },
  {
   "cell_type": "markdown",
   "metadata": {},
   "source": [
    "Functions for loading displacement data, calculating strain and stitching maps together. It also masks out sources of error like dust so they are not interpreted as strain values. Masks were created manualy for each map using a raster graphics editor and are provided as bitmaps along with the data. "
   ]
  },
  {
   "cell_type": "code",
   "execution_count": 3,
   "metadata": {},
   "outputs": [],
   "source": [
    "def load_data(data_dir, steps):\n",
    "    '''Function for loading in text files, masking them and \n",
    "        saving as numpy arrays'''\n",
    "    #load data and masks\n",
    "    for step in steps:\n",
    "        def_maps = []\n",
    "        masks=[]\n",
    "        for i in range(6):\n",
    "            def_maps.append(hrdic.DeformationMap(data_dir, str(step)+'_{:d}.txt'.format(i+1)))\n",
    "            masks.append(io.imread('../data/mask-{:d}.tif'.format(i+1)))\n",
    "        \n",
    "        masked_max_shear_list=[]\n",
    "        masked_axial_list=[]\n",
    "        # use masks to remove noisy points\n",
    "        for def_map, mask in zip(def_maps,masks):\n",
    "            shear_map=def_map.max_shear\n",
    "            axial_map=def_map.f11\n",
    "            mask=color.rgb2gray(mask)\n",
    "            shear_map[mask != 1] = -999\n",
    "            axial_map[mask != 1] = -999\n",
    "            masked_max_shear_list.append(shear_map)\n",
    "            masked_axial_list.append(axial_map)\n",
    "        np.savez('shear_'+str(step), \n",
    "                 masked_max_shear_list[0], masked_max_shear_list[1],\n",
    "                 masked_max_shear_list[2], masked_max_shear_list[3],\n",
    "                 masked_max_shear_list[4], masked_max_shear_list[5])\n",
    "        np.savez('axial_'+str(step), \n",
    "                 masked_axial_list[0], masked_axial_list[1],\n",
    "                 masked_axial_list[2], masked_axial_list[3],\n",
    "                 masked_axial_list[4], masked_axial_list[5])\n",
    "    \n",
    "def stitch_maps(masked_strain_files,crop_list):\n",
    "    ''' Function for stitching strain maps into one big map'''\n",
    "    masked_strain_list=[]\n",
    "    masked_strains=np.load(masked_strain_files)\n",
    "    for array, strain in sorted(masked_strains.items()):\n",
    "        masked_strain_list.append(strain)\n",
    "        \n",
    "    cropped_maps=[]\n",
    "    for crop,def_map in zip(crop_list,masked_strain_list):\n",
    "        cropped=def_map[:,crop[0]:crop[1]]\n",
    "        cropped_maps.append(cropped)    \n",
    "    top=np.hstack((cropped_maps[0],cropped_maps[1],cropped_maps[2]))\n",
    "    bottom=np.hstack((cropped_maps[3],cropped_maps[4],cropped_maps[5]))\n",
    "    #crop images and stack verically\n",
    "    crop_lines=(612,59)\n",
    "    all_height=np.vstack((top[:crop_lines[0],:],bottom[crop_lines[1]:,:]))\n",
    "    return all_height"
   ]
  },
  {
   "cell_type": "markdown",
   "metadata": {},
   "source": [
    "These large maps were obtained in sections and the cell below can be used to convert these into more efficient, compressed `numpy` arrays containing strain values. It's made available should the numpy arrays (also provided) become difficult to read or a different strain calculation is wanted. "
   ]
  },
  {
   "cell_type": "code",
   "execution_count": 4,
   "metadata": {},
   "outputs": [],
   "source": [
    "#Only reload data if needed\n",
    "#data_dir='../data/'\n",
    "#load_data(data_dir,range(1,7))"
   ]
  },
  {
   "cell_type": "markdown",
   "metadata": {},
   "source": [
    "### Shear strains:"
   ]
  },
  {
   "cell_type": "markdown",
   "metadata": {},
   "source": [
    "Before stitching the images need to be cropped. This is the definitive list of crop coordinates used for each map."
   ]
  },
  {
   "cell_type": "code",
   "execution_count": 5,
   "metadata": {},
   "outputs": [],
   "source": [
    "crop_list= [(26,-244),(105,-275),(301,-294),\n",
    "            (25,-240),(110,-275),(300,-295)]"
   ]
  },
  {
   "cell_type": "markdown",
   "metadata": {},
   "source": [
    "Stitch maps and save in compressed numpy array containing the a dictionary with strain maps at all deformation levels."
   ]
  },
  {
   "cell_type": "code",
   "execution_count": 6,
   "metadata": {},
   "outputs": [],
   "source": [
    "stitched_map_list=[]\n",
    "shear_files=glob('shear_*.npz')\n",
    "for strain_file in sorted(shear_files):\n",
    "    stitched_map=stitch_maps(strain_file, crop_list)\n",
    "    stitched_map_list.append(stitched_map)"
   ]
  },
  {
   "cell_type": "markdown",
   "metadata": {},
   "source": [
    "Save maps."
   ]
  },
  {
   "cell_type": "code",
   "execution_count": 8,
   "metadata": {},
   "outputs": [],
   "source": [
    "np.save('stitched_shear_maps',stitched_map_list)"
   ]
  }
 ],
 "metadata": {
  "kernelspec": {
   "display_name": "Python 3",
   "language": "python",
   "name": "python3"
  },
  "language_info": {
   "codemirror_mode": {
    "name": "ipython",
    "version": 3
   },
   "file_extension": ".py",
   "mimetype": "text/x-python",
   "name": "python",
   "nbconvert_exporter": "python",
   "pygments_lexer": "ipython3",
   "version": "3.8.8"
  }
 },
 "nbformat": 4,
 "nbformat_minor": 2
}
